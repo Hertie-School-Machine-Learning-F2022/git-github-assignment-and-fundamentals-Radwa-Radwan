{
  "nbformat": 4,
  "nbformat_minor": 0,
  "metadata": {
    "colab": {
      "provenance": []
    },
    "kernelspec": {
      "name": "python3",
      "display_name": "Python 3"
    },
    "language_info": {
      "name": "python"
    }
  },
  "cells": [
    {
      "cell_type": "markdown",
      "source": [
        "# Problem set 1\n",
        "\n",
        "## Student name: Radwa Abdelsalam\n",
        "\n",
        "## Submit by: Thursday 22.09.2022, 23:59\n",
        "\n",
        "#### You will go over some of the things that we saw in class today, and will answer the quiz based on the outcome of your computational process. You also need to submit the script to demostrate the process you used to get to the answers.\n",
        "\n",
        "For this problem set you DO NOT NEED to set training and testing data."
      ],
      "metadata": {
        "id": "GFFALBB_XSwW"
      }
    },
    {
      "cell_type": "markdown",
      "source": [
        "## Question 1."
      ],
      "metadata": {
        "id": "OwR7wci3YAKX"
      }
    },
    {
      "cell_type": "code",
      "source": [
        "#from sklearn.datasets import load_diabetes and set X and y\n",
        "from sklearn import datasets\n",
        "from sklearn.datasets import load_diabetes\n",
        "\n",
        "\n",
        "# Take some time to understand the dataset\n",
        "# take a look at it as a DataFrame object\n",
        "\n",
        "\n",
        "# For this problem DO NOT SET training and testing data. We will use the same data\n",
        "# throughout the problem set."
      ],
      "metadata": {
        "id": "7nGQZ9YXhkrR"
      },
      "execution_count": 52,
      "outputs": []
    },
    {
      "cell_type": "code",
      "source": [
        "X,y = datasets.load_diabetes(return_X_y = True, as_frame = True)"
      ],
      "metadata": {
        "id": "UZrlPMoA3osz"
      },
      "execution_count": 53,
      "outputs": []
    },
    {
      "cell_type": "code",
      "source": [
        "X"
      ],
      "metadata": {
        "colab": {
          "base_uri": "https://localhost:8080/",
          "height": 424
        },
        "id": "ZMGDx8uZ-OY3",
        "outputId": "44489167-c643-41da-de0c-e01080f95814"
      },
      "execution_count": 54,
      "outputs": [
        {
          "output_type": "execute_result",
          "data": {
            "text/plain": [
              "          age       sex       bmi        bp        s1        s2        s3  \\\n",
              "0    0.038076  0.050680  0.061696  0.021872 -0.044223 -0.034821 -0.043401   \n",
              "1   -0.001882 -0.044642 -0.051474 -0.026328 -0.008449 -0.019163  0.074412   \n",
              "2    0.085299  0.050680  0.044451 -0.005671 -0.045599 -0.034194 -0.032356   \n",
              "3   -0.089063 -0.044642 -0.011595 -0.036656  0.012191  0.024991 -0.036038   \n",
              "4    0.005383 -0.044642 -0.036385  0.021872  0.003935  0.015596  0.008142   \n",
              "..        ...       ...       ...       ...       ...       ...       ...   \n",
              "437  0.041708  0.050680  0.019662  0.059744 -0.005697 -0.002566 -0.028674   \n",
              "438 -0.005515  0.050680 -0.015906 -0.067642  0.049341  0.079165 -0.028674   \n",
              "439  0.041708  0.050680 -0.015906  0.017282 -0.037344 -0.013840 -0.024993   \n",
              "440 -0.045472 -0.044642  0.039062  0.001215  0.016318  0.015283 -0.028674   \n",
              "441 -0.045472 -0.044642 -0.073030 -0.081414  0.083740  0.027809  0.173816   \n",
              "\n",
              "           s4        s5        s6  \n",
              "0   -0.002592  0.019908 -0.017646  \n",
              "1   -0.039493 -0.068330 -0.092204  \n",
              "2   -0.002592  0.002864 -0.025930  \n",
              "3    0.034309  0.022692 -0.009362  \n",
              "4   -0.002592 -0.031991 -0.046641  \n",
              "..        ...       ...       ...  \n",
              "437 -0.002592  0.031193  0.007207  \n",
              "438  0.034309 -0.018118  0.044485  \n",
              "439 -0.011080 -0.046879  0.015491  \n",
              "440  0.026560  0.044528 -0.025930  \n",
              "441 -0.039493 -0.004220  0.003064  \n",
              "\n",
              "[442 rows x 10 columns]"
            ],
            "text/html": [
              "\n",
              "  <div id=\"df-a717b267-27bc-4853-93d0-e639dc5e6c20\">\n",
              "    <div class=\"colab-df-container\">\n",
              "      <div>\n",
              "<style scoped>\n",
              "    .dataframe tbody tr th:only-of-type {\n",
              "        vertical-align: middle;\n",
              "    }\n",
              "\n",
              "    .dataframe tbody tr th {\n",
              "        vertical-align: top;\n",
              "    }\n",
              "\n",
              "    .dataframe thead th {\n",
              "        text-align: right;\n",
              "    }\n",
              "</style>\n",
              "<table border=\"1\" class=\"dataframe\">\n",
              "  <thead>\n",
              "    <tr style=\"text-align: right;\">\n",
              "      <th></th>\n",
              "      <th>age</th>\n",
              "      <th>sex</th>\n",
              "      <th>bmi</th>\n",
              "      <th>bp</th>\n",
              "      <th>s1</th>\n",
              "      <th>s2</th>\n",
              "      <th>s3</th>\n",
              "      <th>s4</th>\n",
              "      <th>s5</th>\n",
              "      <th>s6</th>\n",
              "    </tr>\n",
              "  </thead>\n",
              "  <tbody>\n",
              "    <tr>\n",
              "      <th>0</th>\n",
              "      <td>0.038076</td>\n",
              "      <td>0.050680</td>\n",
              "      <td>0.061696</td>\n",
              "      <td>0.021872</td>\n",
              "      <td>-0.044223</td>\n",
              "      <td>-0.034821</td>\n",
              "      <td>-0.043401</td>\n",
              "      <td>-0.002592</td>\n",
              "      <td>0.019908</td>\n",
              "      <td>-0.017646</td>\n",
              "    </tr>\n",
              "    <tr>\n",
              "      <th>1</th>\n",
              "      <td>-0.001882</td>\n",
              "      <td>-0.044642</td>\n",
              "      <td>-0.051474</td>\n",
              "      <td>-0.026328</td>\n",
              "      <td>-0.008449</td>\n",
              "      <td>-0.019163</td>\n",
              "      <td>0.074412</td>\n",
              "      <td>-0.039493</td>\n",
              "      <td>-0.068330</td>\n",
              "      <td>-0.092204</td>\n",
              "    </tr>\n",
              "    <tr>\n",
              "      <th>2</th>\n",
              "      <td>0.085299</td>\n",
              "      <td>0.050680</td>\n",
              "      <td>0.044451</td>\n",
              "      <td>-0.005671</td>\n",
              "      <td>-0.045599</td>\n",
              "      <td>-0.034194</td>\n",
              "      <td>-0.032356</td>\n",
              "      <td>-0.002592</td>\n",
              "      <td>0.002864</td>\n",
              "      <td>-0.025930</td>\n",
              "    </tr>\n",
              "    <tr>\n",
              "      <th>3</th>\n",
              "      <td>-0.089063</td>\n",
              "      <td>-0.044642</td>\n",
              "      <td>-0.011595</td>\n",
              "      <td>-0.036656</td>\n",
              "      <td>0.012191</td>\n",
              "      <td>0.024991</td>\n",
              "      <td>-0.036038</td>\n",
              "      <td>0.034309</td>\n",
              "      <td>0.022692</td>\n",
              "      <td>-0.009362</td>\n",
              "    </tr>\n",
              "    <tr>\n",
              "      <th>4</th>\n",
              "      <td>0.005383</td>\n",
              "      <td>-0.044642</td>\n",
              "      <td>-0.036385</td>\n",
              "      <td>0.021872</td>\n",
              "      <td>0.003935</td>\n",
              "      <td>0.015596</td>\n",
              "      <td>0.008142</td>\n",
              "      <td>-0.002592</td>\n",
              "      <td>-0.031991</td>\n",
              "      <td>-0.046641</td>\n",
              "    </tr>\n",
              "    <tr>\n",
              "      <th>...</th>\n",
              "      <td>...</td>\n",
              "      <td>...</td>\n",
              "      <td>...</td>\n",
              "      <td>...</td>\n",
              "      <td>...</td>\n",
              "      <td>...</td>\n",
              "      <td>...</td>\n",
              "      <td>...</td>\n",
              "      <td>...</td>\n",
              "      <td>...</td>\n",
              "    </tr>\n",
              "    <tr>\n",
              "      <th>437</th>\n",
              "      <td>0.041708</td>\n",
              "      <td>0.050680</td>\n",
              "      <td>0.019662</td>\n",
              "      <td>0.059744</td>\n",
              "      <td>-0.005697</td>\n",
              "      <td>-0.002566</td>\n",
              "      <td>-0.028674</td>\n",
              "      <td>-0.002592</td>\n",
              "      <td>0.031193</td>\n",
              "      <td>0.007207</td>\n",
              "    </tr>\n",
              "    <tr>\n",
              "      <th>438</th>\n",
              "      <td>-0.005515</td>\n",
              "      <td>0.050680</td>\n",
              "      <td>-0.015906</td>\n",
              "      <td>-0.067642</td>\n",
              "      <td>0.049341</td>\n",
              "      <td>0.079165</td>\n",
              "      <td>-0.028674</td>\n",
              "      <td>0.034309</td>\n",
              "      <td>-0.018118</td>\n",
              "      <td>0.044485</td>\n",
              "    </tr>\n",
              "    <tr>\n",
              "      <th>439</th>\n",
              "      <td>0.041708</td>\n",
              "      <td>0.050680</td>\n",
              "      <td>-0.015906</td>\n",
              "      <td>0.017282</td>\n",
              "      <td>-0.037344</td>\n",
              "      <td>-0.013840</td>\n",
              "      <td>-0.024993</td>\n",
              "      <td>-0.011080</td>\n",
              "      <td>-0.046879</td>\n",
              "      <td>0.015491</td>\n",
              "    </tr>\n",
              "    <tr>\n",
              "      <th>440</th>\n",
              "      <td>-0.045472</td>\n",
              "      <td>-0.044642</td>\n",
              "      <td>0.039062</td>\n",
              "      <td>0.001215</td>\n",
              "      <td>0.016318</td>\n",
              "      <td>0.015283</td>\n",
              "      <td>-0.028674</td>\n",
              "      <td>0.026560</td>\n",
              "      <td>0.044528</td>\n",
              "      <td>-0.025930</td>\n",
              "    </tr>\n",
              "    <tr>\n",
              "      <th>441</th>\n",
              "      <td>-0.045472</td>\n",
              "      <td>-0.044642</td>\n",
              "      <td>-0.073030</td>\n",
              "      <td>-0.081414</td>\n",
              "      <td>0.083740</td>\n",
              "      <td>0.027809</td>\n",
              "      <td>0.173816</td>\n",
              "      <td>-0.039493</td>\n",
              "      <td>-0.004220</td>\n",
              "      <td>0.003064</td>\n",
              "    </tr>\n",
              "  </tbody>\n",
              "</table>\n",
              "<p>442 rows × 10 columns</p>\n",
              "</div>\n",
              "      <button class=\"colab-df-convert\" onclick=\"convertToInteractive('df-a717b267-27bc-4853-93d0-e639dc5e6c20')\"\n",
              "              title=\"Convert this dataframe to an interactive table.\"\n",
              "              style=\"display:none;\">\n",
              "        \n",
              "  <svg xmlns=\"http://www.w3.org/2000/svg\" height=\"24px\"viewBox=\"0 0 24 24\"\n",
              "       width=\"24px\">\n",
              "    <path d=\"M0 0h24v24H0V0z\" fill=\"none\"/>\n",
              "    <path d=\"M18.56 5.44l.94 2.06.94-2.06 2.06-.94-2.06-.94-.94-2.06-.94 2.06-2.06.94zm-11 1L8.5 8.5l.94-2.06 2.06-.94-2.06-.94L8.5 2.5l-.94 2.06-2.06.94zm10 10l.94 2.06.94-2.06 2.06-.94-2.06-.94-.94-2.06-.94 2.06-2.06.94z\"/><path d=\"M17.41 7.96l-1.37-1.37c-.4-.4-.92-.59-1.43-.59-.52 0-1.04.2-1.43.59L10.3 9.45l-7.72 7.72c-.78.78-.78 2.05 0 2.83L4 21.41c.39.39.9.59 1.41.59.51 0 1.02-.2 1.41-.59l7.78-7.78 2.81-2.81c.8-.78.8-2.07 0-2.86zM5.41 20L4 18.59l7.72-7.72 1.47 1.35L5.41 20z\"/>\n",
              "  </svg>\n",
              "      </button>\n",
              "      \n",
              "  <style>\n",
              "    .colab-df-container {\n",
              "      display:flex;\n",
              "      flex-wrap:wrap;\n",
              "      gap: 12px;\n",
              "    }\n",
              "\n",
              "    .colab-df-convert {\n",
              "      background-color: #E8F0FE;\n",
              "      border: none;\n",
              "      border-radius: 50%;\n",
              "      cursor: pointer;\n",
              "      display: none;\n",
              "      fill: #1967D2;\n",
              "      height: 32px;\n",
              "      padding: 0 0 0 0;\n",
              "      width: 32px;\n",
              "    }\n",
              "\n",
              "    .colab-df-convert:hover {\n",
              "      background-color: #E2EBFA;\n",
              "      box-shadow: 0px 1px 2px rgba(60, 64, 67, 0.3), 0px 1px 3px 1px rgba(60, 64, 67, 0.15);\n",
              "      fill: #174EA6;\n",
              "    }\n",
              "\n",
              "    [theme=dark] .colab-df-convert {\n",
              "      background-color: #3B4455;\n",
              "      fill: #D2E3FC;\n",
              "    }\n",
              "\n",
              "    [theme=dark] .colab-df-convert:hover {\n",
              "      background-color: #434B5C;\n",
              "      box-shadow: 0px 1px 3px 1px rgba(0, 0, 0, 0.15);\n",
              "      filter: drop-shadow(0px 1px 2px rgba(0, 0, 0, 0.3));\n",
              "      fill: #FFFFFF;\n",
              "    }\n",
              "  </style>\n",
              "\n",
              "      <script>\n",
              "        const buttonEl =\n",
              "          document.querySelector('#df-a717b267-27bc-4853-93d0-e639dc5e6c20 button.colab-df-convert');\n",
              "        buttonEl.style.display =\n",
              "          google.colab.kernel.accessAllowed ? 'block' : 'none';\n",
              "\n",
              "        async function convertToInteractive(key) {\n",
              "          const element = document.querySelector('#df-a717b267-27bc-4853-93d0-e639dc5e6c20');\n",
              "          const dataTable =\n",
              "            await google.colab.kernel.invokeFunction('convertToInteractive',\n",
              "                                                     [key], {});\n",
              "          if (!dataTable) return;\n",
              "\n",
              "          const docLinkHtml = 'Like what you see? Visit the ' +\n",
              "            '<a target=\"_blank\" href=https://colab.research.google.com/notebooks/data_table.ipynb>data table notebook</a>'\n",
              "            + ' to learn more about interactive tables.';\n",
              "          element.innerHTML = '';\n",
              "          dataTable['output_type'] = 'display_data';\n",
              "          await google.colab.output.renderOutput(dataTable, element);\n",
              "          const docLink = document.createElement('div');\n",
              "          docLink.innerHTML = docLinkHtml;\n",
              "          element.appendChild(docLink);\n",
              "        }\n",
              "      </script>\n",
              "    </div>\n",
              "  </div>\n",
              "  "
            ]
          },
          "metadata": {},
          "execution_count": 54
        }
      ]
    },
    {
      "cell_type": "markdown",
      "source": [
        "How many variables are in X?"
      ],
      "metadata": {
        "id": "gJM0RWChiDJh"
      }
    },
    {
      "cell_type": "markdown",
      "source": [
        "## Question 2"
      ],
      "metadata": {
        "id": "gnYj7rp4YC85"
      }
    },
    {
      "cell_type": "code",
      "source": [
        "# Import the SGD Linear Regression algorithm \n",
        "# SGD stands for Stochastic Gradient Descent: the gradient of the loss is \n",
        "# estimated each sample at a time and the model is updated along the way \n",
        "# with a decreasing strength schedule (aka learning rate).\n",
        "from sklearn.linear_model import SGDRegressor\n",
        "\n",
        "# Set it as the mod variable\n",
        "mod = SGDRegressor\n",
        "\n",
        "# Take a look at the parameters\n"
      ],
      "metadata": {
        "id": "A-3u3_nsYEfr"
      },
      "execution_count": 55,
      "outputs": []
    },
    {
      "cell_type": "code",
      "source": [
        "from sklearn.pipeline import Pipeline\n",
        "pipe = Pipeline([('model', SGDRegressor()) \n",
        "                 ])\n",
        "pipe.get_params()"
      ],
      "metadata": {
        "colab": {
          "base_uri": "https://localhost:8080/"
        },
        "id": "LCa1qhdTCgBx",
        "outputId": "20da3f1a-a0cc-4be2-981d-90e392fce791"
      },
      "execution_count": 56,
      "outputs": [
        {
          "output_type": "execute_result",
          "data": {
            "text/plain": [
              "{'memory': None,\n",
              " 'steps': [('model', SGDRegressor())],\n",
              " 'verbose': False,\n",
              " 'model': SGDRegressor(),\n",
              " 'model__alpha': 0.0001,\n",
              " 'model__average': False,\n",
              " 'model__early_stopping': False,\n",
              " 'model__epsilon': 0.1,\n",
              " 'model__eta0': 0.01,\n",
              " 'model__fit_intercept': True,\n",
              " 'model__l1_ratio': 0.15,\n",
              " 'model__learning_rate': 'invscaling',\n",
              " 'model__loss': 'squared_error',\n",
              " 'model__max_iter': 1000,\n",
              " 'model__n_iter_no_change': 5,\n",
              " 'model__penalty': 'l2',\n",
              " 'model__power_t': 0.25,\n",
              " 'model__random_state': None,\n",
              " 'model__shuffle': True,\n",
              " 'model__tol': 0.001,\n",
              " 'model__validation_fraction': 0.1,\n",
              " 'model__verbose': 0,\n",
              " 'model__warm_start': False}"
            ]
          },
          "metadata": {},
          "execution_count": 56
        }
      ]
    },
    {
      "cell_type": "markdown",
      "source": [
        "What are the parameters of the Linear Regression model?"
      ],
      "metadata": {
        "id": "fvzKrAsDjrw0"
      }
    },
    {
      "cell_type": "markdown",
      "source": [
        "## Question 3."
      ],
      "metadata": {
        "id": "zSB12OsWYE6i"
      }
    },
    {
      "cell_type": "code",
      "source": [
        "# Import the Standard Scaler and take a look at the parameters\n",
        "from sklearn.preprocessing import StandardScaler\n",
        "scal_pipe=Pipeline([('scalar', StandardScaler()) \n",
        "                 ])\n",
        "scal_pipe.get_params()"
      ],
      "metadata": {
        "id": "Abs9a_v8YFYx",
        "colab": {
          "base_uri": "https://localhost:8080/"
        },
        "outputId": "9f52e514-099e-479a-f3a9-232d3e5c2c1b"
      },
      "execution_count": 57,
      "outputs": [
        {
          "output_type": "execute_result",
          "data": {
            "text/plain": [
              "{'memory': None,\n",
              " 'steps': [('scalar', StandardScaler())],\n",
              " 'verbose': False,\n",
              " 'scalar': StandardScaler(),\n",
              " 'scalar__copy': True,\n",
              " 'scalar__with_mean': True,\n",
              " 'scalar__with_std': True}"
            ]
          },
          "metadata": {},
          "execution_count": 57
        }
      ]
    },
    {
      "cell_type": "markdown",
      "source": [
        "What are the default option at which with_mean and with_std are set?"
      ],
      "metadata": {
        "id": "fk3CtAdKkNr2"
      }
    },
    {
      "cell_type": "markdown",
      "source": [
        "## Question 4."
      ],
      "metadata": {
        "id": "GiVldJW2YFp8"
      }
    },
    {
      "cell_type": "code",
      "source": [
        "# Create a pipeline using the two previous steps, for the model\n",
        "# set the SGDRegressor parameter random_state = 123 to reproduce results.\n",
        "mod_pipe = Pipeline([('scaler', StandardScaler()),     \n",
        "                 ('model', SGDRegressor()),\n",
        "                 ])\n",
        "\n",
        "from sklearn.model_selection import KFold\n",
        "cv=KFold(n_splits=3, random_state=123, shuffle=True)\n",
        "\n",
        "\n",
        "#Fit and predict the pipe, print results\n",
        "\n",
        "mod_pipe.fit(X,y)\n",
        "pred = mod_pipe.predict(X)\n",
        "print(pred)"
      ],
      "metadata": {
        "id": "lzkAXHECYF-B",
        "colab": {
          "base_uri": "https://localhost:8080/"
        },
        "outputId": "55e59587-67c7-46a2-e549-26d1c4081906"
      },
      "execution_count": 64,
      "outputs": [
        {
          "output_type": "stream",
          "name": "stdout",
          "text": [
            "[203.54966061  71.63106547 174.46135223 162.8961295  128.30951245\n",
            " 107.05582243  79.02529915 121.82307619 158.98994852 213.54833404\n",
            " 101.65981081 103.86649039 115.19967079 161.64126071 102.71215426\n",
            " 172.28714222 209.10599672 181.05770304 146.27432833 122.46999472\n",
            " 118.34610008  91.59854219 118.26933617 272.69942884 163.9296774\n",
            " 144.08706806  97.23471446 177.64673024 127.8367841  183.6028157\n",
            " 159.35945937  70.3374042  254.43195292 108.03365521  81.65440965\n",
            "  83.52627724 206.80070249 154.34954803 241.25999725 134.89676966\n",
            " 151.566544    74.20465613 143.0718673   79.19452145 216.39292911\n",
            " 123.98066879 140.54527446 107.65437969  78.08837069 184.6302664\n",
            " 157.61390946 167.11616384 133.22923054 157.36878057 141.20072552\n",
            "  75.00819895 204.42098728  81.37190118  97.4075028  133.25198885\n",
            " 116.01074864 174.20644771  68.0164615  100.5878898  112.78728886\n",
            " 184.41493022 143.93714906 123.36916081 112.36049144 124.08296897\n",
            "  76.68384637 234.62130433 147.49030395 122.05015866 149.79662924\n",
            " 125.38719702 191.20906542  82.7494547  163.20797415  95.27530867\n",
            " 172.21890917 119.8646299   67.81982716 150.87625265  59.01921034\n",
            " 169.48069802  52.22619869 150.77825296  79.90570736 104.83382182\n",
            "  85.41546569 185.35404973 188.43443611  60.9231465  107.44942318\n",
            " 121.86812192 205.8880684  211.63493309 123.22145341 135.06889735\n",
            " 166.44927406 106.67660669 149.58620742 158.22659556 157.5437025\n",
            " 113.72021329  76.42572247 158.07414363 226.24352649 142.26425713\n",
            "  52.881903   121.65462517 152.27182137 205.744886   298.23241169\n",
            " 189.24936661 210.22164984 235.27185356 162.30292983 147.2584008\n",
            " 156.6215278  196.83604415 216.39453008 169.00668937 167.54684634\n",
            " 189.86754598  67.07581129 106.77859636  93.22154725 206.5859657\n",
            " 242.2330592   72.43092031 113.21953678  72.99164625 141.32891895\n",
            " 235.33277454  62.411723   231.6639044  251.55638699 251.10052237\n",
            " 157.11398518 223.66914626 170.49471324 118.97368894 175.00299312\n",
            " 239.46036241 187.71698928 225.5119282  115.347646   174.35605327\n",
            " 208.33416948 142.2000455  194.32653609 122.47568561 149.27007304\n",
            " 197.72185658 145.43589293 121.59779715  85.75667007 233.48298797\n",
            "  84.02976656 232.69935665 143.46144664 196.65840462 142.19735208\n",
            "  78.3427866   65.47176999 263.78862688 222.97100485 240.90336307\n",
            "  55.97262243  90.66665372 222.70346451  95.41053548 161.52971108\n",
            " 120.29398723 156.36832604 221.76569778 102.25338671 163.01605426\n",
            " 175.43711695  90.08186149 168.88715872 155.28859724 198.71224032\n",
            " 185.39853251 192.60978041  73.6986403  153.19042005 114.00067284\n",
            " 191.18828615 125.43002679  93.53357616 138.01615288 152.2806537\n",
            " 167.81507508  98.3851989  186.89854639 149.72230615 181.72478334\n",
            "  95.84832207  72.01660861 169.86889397 193.53681513 174.37722524\n",
            " 226.47766976 157.65663711 211.28379763 219.36012034 170.14792096\n",
            " 127.51606621 175.85882529 151.1942172   98.55600943  98.39068601\n",
            " 259.88410013 216.67527867 219.46846439 129.45772225 141.03512115\n",
            "  64.23854236 139.77787398 151.9647131  122.78107054  77.84034257\n",
            " 228.38777954  79.74498082 105.94154611 116.96889912  99.16252225\n",
            " 166.67678518 156.05594654 154.90957542 142.11198384 231.03351228\n",
            " 173.71522098 184.48465302  67.80556964 184.65071361 179.60187548\n",
            " 231.300928   120.0209501   91.86451862 101.69170248 141.47954631\n",
            " 102.67179837 119.49215054  79.68988486 232.81139961 245.55903714\n",
            " 265.13036719 275.58815083 178.46412363 200.76564105 267.62046506\n",
            " 115.65032106 263.95833949 101.97392088 115.11812022 142.05674327\n",
            "  63.58165751 125.25627656 260.3173146   50.78609306 128.43896861\n",
            " 128.21270937  41.37375767 136.02649706 239.80959552  87.023133\n",
            " 189.1269826  163.4470085  146.8267343  201.09705987 173.20012231\n",
            " 155.10475209 190.17689949 114.08929052 109.07493369 116.93073061\n",
            " 162.64232429  92.91189516 138.74600489  88.68388317 157.54808144\n",
            " 197.29450919  75.04292731 145.9491152   85.3902403  189.90637425\n",
            " 218.25107915 204.91519162  95.61551288 183.27195464  89.36236974\n",
            " 151.57844433  79.9464037  103.28362294 107.1160847  122.73521988\n",
            " 215.80942585 124.75177143 204.12801991 232.78631214 122.10321111\n",
            " 130.30665565 128.98755768 145.22514877  91.03843667 137.65427125\n",
            " 203.12970705 170.49794661 124.39496811 211.931861   172.93741492\n",
            " 109.43622543 198.22121106 170.39140038 160.44437402 187.85702797\n",
            " 187.81576035 286.81859909 295.04813862 232.61835414 207.33003992\n",
            " 218.43131924 153.0329356  222.43220429 185.75354878 102.28011114\n",
            " 176.35033963 112.37089795 289.18053954 178.95465581  83.25799211\n",
            "  88.32632806 248.15612881 170.54461968 122.48698282 145.27311852\n",
            " 172.09690874 184.23679834 164.5330925  161.31695098 141.53768167\n",
            " 123.37372034 178.6295948  101.35761115 128.46952698  97.35163149\n",
            " 250.14179683  88.79960179  57.48438321 177.95702809 195.67482605\n",
            " 132.94970269  93.42679881 200.38358344  59.35889058 170.66872407\n",
            " 193.17539395 124.33895828 232.57649506 160.44882658 156.00667845\n",
            " 159.32090447 253.58108023 254.80839967 199.79355754 181.90104164\n",
            "  61.48369287 209.21624248 108.28267035 142.83792152 124.92246306\n",
            " 177.12568748 209.5407106  165.72282616 161.11361286 136.58166148\n",
            " 177.33743489  72.40952463 255.71045675 113.70627882 111.33795186\n",
            " 139.02525092 109.33477865 102.33921964 160.67364443  76.78224607\n",
            " 262.704513    60.7634186  100.0788188  101.79043936 276.59539982\n",
            " 166.11828987  70.48531965 179.12884057 170.90686312 188.02489915\n",
            " 185.52904422  88.03710995 143.20929929 250.96100959 199.97592796\n",
            " 279.76348445  53.17597478 175.33850396 202.31310708 170.17509535\n",
            " 158.49452138 154.38013554 230.13974688 122.59156439 163.37160249\n",
            " 167.64010527 227.00897466 152.2253525   99.27630107  85.10653048\n",
            " 139.89885686 188.63277236 198.90490592 148.23688764 167.6147205\n",
            " 109.86139583 159.3542761  131.21514485 257.87695257 101.29671461\n",
            " 113.63579616 120.32765513 216.9751825   61.70934345 134.25805157\n",
            " 120.59352734  55.4722664  191.22587908 101.38616872 123.74398611\n",
            " 209.12502214  48.04499609]\n"
          ]
        }
      ]
    },
    {
      "cell_type": "markdown",
      "source": [
        "What are the first 4 predicted values? "
      ],
      "metadata": {
        "id": "m8_OvAAalaWM"
      }
    },
    {
      "cell_type": "markdown",
      "source": [
        "Question 5."
      ],
      "metadata": {
        "id": "u7GHpq7FYGQB"
      }
    },
    {
      "cell_type": "code",
      "source": [
        "# Now create a GridSearchCV Object using the previous pipe object,\n",
        "# where the parameter 'model__alpa' is set to try 0.0001, 0.005, 0.001.\n",
        "# Set cross validation to 3 times.\n",
        "from sklearn.model_selection import GridSearchCV\n",
        "mod2 = GridSearchCV(estimator=mod_pipe,\n",
        "                 param_grid={\n",
        "                   'model__alpha': [0.0001, 0.005 , 0.001],       \n",
        "                 },\n",
        "                 cv=cv)\n"
      ],
      "metadata": {
        "id": "DFbW7-gPYGjl"
      },
      "execution_count": 59,
      "outputs": []
    },
    {
      "cell_type": "markdown",
      "source": [
        "How are you supposed to write the values of the parameter 'alpha'?"
      ],
      "metadata": {
        "id": "qCUnrjFJnY-X"
      }
    },
    {
      "cell_type": "markdown",
      "source": [
        "Question 6."
      ],
      "metadata": {
        "id": "2EN6DfL2YHCC"
      }
    },
    {
      "cell_type": "code",
      "source": [
        "# Now fit the GridSearch model from above and see the results \n",
        "# (Hint: to make sure we all get the same results, you had to use the pipe that\n",
        "# was set in question 4 making sure we used the same random_state = 123)\n",
        "mod2.fit(X,y)\n",
        "\n"
      ],
      "metadata": {
        "id": "46sNANbrYHdb",
        "colab": {
          "base_uri": "https://localhost:8080/"
        },
        "outputId": "d407c0a3-caff-47e2-9788-72137950132b"
      },
      "execution_count": 60,
      "outputs": [
        {
          "output_type": "execute_result",
          "data": {
            "text/plain": [
              "GridSearchCV(cv=KFold(n_splits=3, random_state=123, shuffle=True),\n",
              "             estimator=Pipeline(steps=[('scaler', StandardScaler()),\n",
              "                                       ('model', SGDRegressor())]),\n",
              "             param_grid={'model__alpha': [0.0001, 0.005, 0.001]})"
            ]
          },
          "metadata": {},
          "execution_count": 60
        }
      ]
    },
    {
      "cell_type": "code",
      "source": [
        "import pandas as pd\n",
        "pd.DataFrame(mod2.cv_results_)\n"
      ],
      "metadata": {
        "colab": {
          "base_uri": "https://localhost:8080/",
          "height": 259
        },
        "id": "ZJX0drUjflf6",
        "outputId": "76ce264c-da33-48d9-9b74-57304b5d7b02"
      },
      "execution_count": 61,
      "outputs": [
        {
          "output_type": "execute_result",
          "data": {
            "text/plain": [
              "   mean_fit_time  std_fit_time  mean_score_time  std_score_time  \\\n",
              "0       0.008720      0.003472         0.002825        0.000948   \n",
              "1       0.005725      0.000370         0.002658        0.000583   \n",
              "2       0.006085      0.000197         0.002486        0.000102   \n",
              "\n",
              "  param_model__alpha                    params  split0_test_score  \\\n",
              "0             0.0001  {'model__alpha': 0.0001}           0.519621   \n",
              "1              0.005   {'model__alpha': 0.005}           0.518861   \n",
              "2              0.001   {'model__alpha': 0.001}           0.518143   \n",
              "\n",
              "   split1_test_score  split2_test_score  mean_test_score  std_test_score  \\\n",
              "0           0.476184           0.482944         0.492917        0.019084   \n",
              "1           0.477408           0.484305         0.493525        0.018135   \n",
              "2           0.477854           0.483434         0.493144        0.017823   \n",
              "\n",
              "   rank_test_score  \n",
              "0                3  \n",
              "1                1  \n",
              "2                2  "
            ],
            "text/html": [
              "\n",
              "  <div id=\"df-b3444d56-042b-496d-89c4-8882f40b2ef1\">\n",
              "    <div class=\"colab-df-container\">\n",
              "      <div>\n",
              "<style scoped>\n",
              "    .dataframe tbody tr th:only-of-type {\n",
              "        vertical-align: middle;\n",
              "    }\n",
              "\n",
              "    .dataframe tbody tr th {\n",
              "        vertical-align: top;\n",
              "    }\n",
              "\n",
              "    .dataframe thead th {\n",
              "        text-align: right;\n",
              "    }\n",
              "</style>\n",
              "<table border=\"1\" class=\"dataframe\">\n",
              "  <thead>\n",
              "    <tr style=\"text-align: right;\">\n",
              "      <th></th>\n",
              "      <th>mean_fit_time</th>\n",
              "      <th>std_fit_time</th>\n",
              "      <th>mean_score_time</th>\n",
              "      <th>std_score_time</th>\n",
              "      <th>param_model__alpha</th>\n",
              "      <th>params</th>\n",
              "      <th>split0_test_score</th>\n",
              "      <th>split1_test_score</th>\n",
              "      <th>split2_test_score</th>\n",
              "      <th>mean_test_score</th>\n",
              "      <th>std_test_score</th>\n",
              "      <th>rank_test_score</th>\n",
              "    </tr>\n",
              "  </thead>\n",
              "  <tbody>\n",
              "    <tr>\n",
              "      <th>0</th>\n",
              "      <td>0.008720</td>\n",
              "      <td>0.003472</td>\n",
              "      <td>0.002825</td>\n",
              "      <td>0.000948</td>\n",
              "      <td>0.0001</td>\n",
              "      <td>{'model__alpha': 0.0001}</td>\n",
              "      <td>0.519621</td>\n",
              "      <td>0.476184</td>\n",
              "      <td>0.482944</td>\n",
              "      <td>0.492917</td>\n",
              "      <td>0.019084</td>\n",
              "      <td>3</td>\n",
              "    </tr>\n",
              "    <tr>\n",
              "      <th>1</th>\n",
              "      <td>0.005725</td>\n",
              "      <td>0.000370</td>\n",
              "      <td>0.002658</td>\n",
              "      <td>0.000583</td>\n",
              "      <td>0.005</td>\n",
              "      <td>{'model__alpha': 0.005}</td>\n",
              "      <td>0.518861</td>\n",
              "      <td>0.477408</td>\n",
              "      <td>0.484305</td>\n",
              "      <td>0.493525</td>\n",
              "      <td>0.018135</td>\n",
              "      <td>1</td>\n",
              "    </tr>\n",
              "    <tr>\n",
              "      <th>2</th>\n",
              "      <td>0.006085</td>\n",
              "      <td>0.000197</td>\n",
              "      <td>0.002486</td>\n",
              "      <td>0.000102</td>\n",
              "      <td>0.001</td>\n",
              "      <td>{'model__alpha': 0.001}</td>\n",
              "      <td>0.518143</td>\n",
              "      <td>0.477854</td>\n",
              "      <td>0.483434</td>\n",
              "      <td>0.493144</td>\n",
              "      <td>0.017823</td>\n",
              "      <td>2</td>\n",
              "    </tr>\n",
              "  </tbody>\n",
              "</table>\n",
              "</div>\n",
              "      <button class=\"colab-df-convert\" onclick=\"convertToInteractive('df-b3444d56-042b-496d-89c4-8882f40b2ef1')\"\n",
              "              title=\"Convert this dataframe to an interactive table.\"\n",
              "              style=\"display:none;\">\n",
              "        \n",
              "  <svg xmlns=\"http://www.w3.org/2000/svg\" height=\"24px\"viewBox=\"0 0 24 24\"\n",
              "       width=\"24px\">\n",
              "    <path d=\"M0 0h24v24H0V0z\" fill=\"none\"/>\n",
              "    <path d=\"M18.56 5.44l.94 2.06.94-2.06 2.06-.94-2.06-.94-.94-2.06-.94 2.06-2.06.94zm-11 1L8.5 8.5l.94-2.06 2.06-.94-2.06-.94L8.5 2.5l-.94 2.06-2.06.94zm10 10l.94 2.06.94-2.06 2.06-.94-2.06-.94-.94-2.06-.94 2.06-2.06.94z\"/><path d=\"M17.41 7.96l-1.37-1.37c-.4-.4-.92-.59-1.43-.59-.52 0-1.04.2-1.43.59L10.3 9.45l-7.72 7.72c-.78.78-.78 2.05 0 2.83L4 21.41c.39.39.9.59 1.41.59.51 0 1.02-.2 1.41-.59l7.78-7.78 2.81-2.81c.8-.78.8-2.07 0-2.86zM5.41 20L4 18.59l7.72-7.72 1.47 1.35L5.41 20z\"/>\n",
              "  </svg>\n",
              "      </button>\n",
              "      \n",
              "  <style>\n",
              "    .colab-df-container {\n",
              "      display:flex;\n",
              "      flex-wrap:wrap;\n",
              "      gap: 12px;\n",
              "    }\n",
              "\n",
              "    .colab-df-convert {\n",
              "      background-color: #E8F0FE;\n",
              "      border: none;\n",
              "      border-radius: 50%;\n",
              "      cursor: pointer;\n",
              "      display: none;\n",
              "      fill: #1967D2;\n",
              "      height: 32px;\n",
              "      padding: 0 0 0 0;\n",
              "      width: 32px;\n",
              "    }\n",
              "\n",
              "    .colab-df-convert:hover {\n",
              "      background-color: #E2EBFA;\n",
              "      box-shadow: 0px 1px 2px rgba(60, 64, 67, 0.3), 0px 1px 3px 1px rgba(60, 64, 67, 0.15);\n",
              "      fill: #174EA6;\n",
              "    }\n",
              "\n",
              "    [theme=dark] .colab-df-convert {\n",
              "      background-color: #3B4455;\n",
              "      fill: #D2E3FC;\n",
              "    }\n",
              "\n",
              "    [theme=dark] .colab-df-convert:hover {\n",
              "      background-color: #434B5C;\n",
              "      box-shadow: 0px 1px 3px 1px rgba(0, 0, 0, 0.15);\n",
              "      filter: drop-shadow(0px 1px 2px rgba(0, 0, 0, 0.3));\n",
              "      fill: #FFFFFF;\n",
              "    }\n",
              "  </style>\n",
              "\n",
              "      <script>\n",
              "        const buttonEl =\n",
              "          document.querySelector('#df-b3444d56-042b-496d-89c4-8882f40b2ef1 button.colab-df-convert');\n",
              "        buttonEl.style.display =\n",
              "          google.colab.kernel.accessAllowed ? 'block' : 'none';\n",
              "\n",
              "        async function convertToInteractive(key) {\n",
              "          const element = document.querySelector('#df-b3444d56-042b-496d-89c4-8882f40b2ef1');\n",
              "          const dataTable =\n",
              "            await google.colab.kernel.invokeFunction('convertToInteractive',\n",
              "                                                     [key], {});\n",
              "          if (!dataTable) return;\n",
              "\n",
              "          const docLinkHtml = 'Like what you see? Visit the ' +\n",
              "            '<a target=\"_blank\" href=https://colab.research.google.com/notebooks/data_table.ipynb>data table notebook</a>'\n",
              "            + ' to learn more about interactive tables.';\n",
              "          element.innerHTML = '';\n",
              "          dataTable['output_type'] = 'display_data';\n",
              "          await google.colab.output.renderOutput(dataTable, element);\n",
              "          const docLink = document.createElement('div');\n",
              "          docLink.innerHTML = docLinkHtml;\n",
              "          element.appendChild(docLink);\n",
              "        }\n",
              "      </script>\n",
              "    </div>\n",
              "  </div>\n",
              "  "
            ]
          },
          "metadata": {},
          "execution_count": 61
        }
      ]
    },
    {
      "cell_type": "markdown",
      "source": [
        "Which is the best model? Look at the rank_test_value"
      ],
      "metadata": {
        "id": "byN7vPtHon9l"
      }
    },
    {
      "cell_type": "markdown",
      "source": [
        "Question 7.\n",
        "\n",
        "Find out which test score is the one that is reported above in mean_test_score. What is it and how do you interpret this results?"
      ],
      "metadata": {
        "id": "u1uts1sGYHwM"
      }
    },
    {
      "cell_type": "code",
      "source": [
        "#In GridSearchCV, mean_test_score denotes the mean accuracy of every split in cross validation. In case of regression models, it represents R2."
      ],
      "metadata": {
        "id": "vgTB-iHnNOaZ"
      },
      "execution_count": 62,
      "outputs": []
    }
  ]
}