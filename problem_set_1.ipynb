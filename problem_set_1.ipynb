{
  "nbformat": 4,
  "nbformat_minor": 0,
  "metadata": {
    "colab": {
      "provenance": []
    },
    "kernelspec": {
      "name": "python3",
      "display_name": "Python 3"
    },
    "language_info": {
      "name": "python"
    }
  },
  "cells": [
    {
      "cell_type": "markdown",
      "source": [
        "# Problem set 1\n",
        "\n",
        "## Student name: Radwa Abdelsalam\n",
        "\n",
        "## Submit by: Thursday 22.09.2022, 23:59\n",
        "\n",
        "#### You will go over some of the things that we saw in class today, and will answer the quiz based on the outcome of your computational process. You also need to submit the script to demostrate the process you used to get to the answers.\n",
        "\n",
        "For this problem set you DO NOT NEED to set training and testing data."
      ],
      "metadata": {
        "id": "GFFALBB_XSwW"
      }
    },
    {
      "cell_type": "markdown",
      "source": [
        "## Question 1."
      ],
      "metadata": {
        "id": "OwR7wci3YAKX"
      }
    },
    {
      "cell_type": "code",
      "source": [
        "#from sklearn.datasets import load_diabetes and set X and y\n",
        "from sklearn import datasets\n",
        "from sklearn.datasets import load_diabetes\n",
        "\n",
        "\n",
        "# Take some time to understand the dataset\n",
        "# take a look at it as a DataFrame object\n",
        "\n",
        "\n",
        "# For this problem DO NOT SET training and testing data. We will use the same data\n",
        "# throughout the problem set."
      ],
      "metadata": {
        "id": "7nGQZ9YXhkrR"
      },
      "execution_count": 52,
      "outputs": []
    },
    {
      "cell_type": "code",
      "source": [
        "X,y = datasets.load_diabetes(return_X_y = True, as_frame = True)"
      ],
      "metadata": {
        "id": "UZrlPMoA3osz"
      },
      "execution_count": 53,
      "outputs": []
    },
    {
      "cell_type": "code",
      "source": [
        "X"
      ],
      "metadata": {
        "colab": {
          "base_uri": "https://localhost:8080/",
          "height": 424
        },
        "id": "ZMGDx8uZ-OY3",
        "outputId": "44489167-c643-41da-de0c-e01080f95814"
      },
      "execution_count": 54,
      "outputs": [
        {
          "output_type": "execute_result",
          "data": {
            "text/plain": [
              "          age       sex       bmi        bp        s1        s2        s3  \\\n",
              "0    0.038076  0.050680  0.061696  0.021872 -0.044223 -0.034821 -0.043401   \n",
              "1   -0.001882 -0.044642 -0.051474 -0.026328 -0.008449 -0.019163  0.074412   \n",
              "2    0.085299  0.050680  0.044451 -0.005671 -0.045599 -0.034194 -0.032356   \n",
              "3   -0.089063 -0.044642 -0.011595 -0.036656  0.012191  0.024991 -0.036038   \n",
              "4    0.005383 -0.044642 -0.036385  0.021872  0.003935  0.015596  0.008142   \n",
              "..        ...       ...       ...       ...       ...       ...       ...   \n",
              "437  0.041708  0.050680  0.019662  0.059744 -0.005697 -0.002566 -0.028674   \n",
              "438 -0.005515  0.050680 -0.015906 -0.067642  0.049341  0.079165 -0.028674   \n",
              "439  0.041708  0.050680 -0.015906  0.017282 -0.037344 -0.013840 -0.024993   \n",
              "440 -0.045472 -0.044642  0.039062  0.001215  0.016318  0.015283 -0.028674   \n",
              "441 -0.045472 -0.044642 -0.073030 -0.081414  0.083740  0.027809  0.173816   \n",
              "\n",
              "           s4        s5        s6  \n",
              "0   -0.002592  0.019908 -0.017646  \n",
              "1   -0.039493 -0.068330 -0.092204  \n",
              "2   -0.002592  0.002864 -0.025930  \n",
              "3    0.034309  0.022692 -0.009362  \n",
              "4   -0.002592 -0.031991 -0.046641  \n",
              "..        ...       ...       ...  \n",
              "437 -0.002592  0.031193  0.007207  \n",
              "438  0.034309 -0.018118  0.044485  \n",
              "439 -0.011080 -0.046879  0.015491  \n",
              "440  0.026560  0.044528 -0.025930  \n",
              "441 -0.039493 -0.004220  0.003064  \n",
              "\n",
              "[442 rows x 10 columns]"
            ],
            "text/html": [
              "\n",
              "  <div id=\"df-a717b267-27bc-4853-93d0-e639dc5e6c20\">\n",
              "    <div class=\"colab-df-container\">\n",
              "      <div>\n",
              "<style scoped>\n",
              "    .dataframe tbody tr th:only-of-type {\n",
              "        vertical-align: middle;\n",
              "    }\n",
              "\n",
              "    .dataframe tbody tr th {\n",
              "        vertical-align: top;\n",
              "    }\n",
              "\n",
              "    .dataframe thead th {\n",
              "        text-align: right;\n",
              "    }\n",
              "</style>\n",
              "<table border=\"1\" class=\"dataframe\">\n",
              "  <thead>\n",
              "    <tr style=\"text-align: right;\">\n",
              "      <th></th>\n",
              "      <th>age</th>\n",
              "      <th>sex</th>\n",
              "      <th>bmi</th>\n",
              "      <th>bp</th>\n",
              "      <th>s1</th>\n",
              "      <th>s2</th>\n",
              "      <th>s3</th>\n",
              "      <th>s4</th>\n",
              "      <th>s5</th>\n",
              "      <th>s6</th>\n",
              "    </tr>\n",
              "  </thead>\n",
              "  <tbody>\n",
              "    <tr>\n",
              "      <th>0</th>\n",
              "      <td>0.038076</td>\n",
              "      <td>0.050680</td>\n",
              "      <td>0.061696</td>\n",
              "      <td>0.021872</td>\n",
              "      <td>-0.044223</td>\n",
              "      <td>-0.034821</td>\n",
              "      <td>-0.043401</td>\n",
              "      <td>-0.002592</td>\n",
              "      <td>0.019908</td>\n",
              "      <td>-0.017646</td>\n",
              "    </tr>\n",
              "    <tr>\n",
              "      <th>1</th>\n",
              "      <td>-0.001882</td>\n",
              "      <td>-0.044642</td>\n",
              "      <td>-0.051474</td>\n",
              "      <td>-0.026328</td>\n",
              "      <td>-0.008449</td>\n",
              "      <td>-0.019163</td>\n",
              "      <td>0.074412</td>\n",
              "      <td>-0.039493</td>\n",
              "      <td>-0.068330</td>\n",
              "      <td>-0.092204</td>\n",
              "    </tr>\n",
              "    <tr>\n",
              "      <th>2</th>\n",
              "      <td>0.085299</td>\n",
              "      <td>0.050680</td>\n",
              "      <td>0.044451</td>\n",
              "      <td>-0.005671</td>\n",
              "      <td>-0.045599</td>\n",
              "      <td>-0.034194</td>\n",
              "      <td>-0.032356</td>\n",
              "      <td>-0.002592</td>\n",
              "      <td>0.002864</td>\n",
              "      <td>-0.025930</td>\n",
              "    </tr>\n",
              "    <tr>\n",
              "      <th>3</th>\n",
              "      <td>-0.089063</td>\n",
              "      <td>-0.044642</td>\n",
              "      <td>-0.011595</td>\n",
              "      <td>-0.036656</td>\n",
              "      <td>0.012191</td>\n",
              "      <td>0.024991</td>\n",
              "      <td>-0.036038</td>\n",
              "      <td>0.034309</td>\n",
              "      <td>0.022692</td>\n",
              "      <td>-0.009362</td>\n",
              "    </tr>\n",
              "    <tr>\n",
              "      <th>4</th>\n",
              "      <td>0.005383</td>\n",
              "      <td>-0.044642</td>\n",
              "      <td>-0.036385</td>\n",
              "      <td>0.021872</td>\n",
              "      <td>0.003935</td>\n",
              "      <td>0.015596</td>\n",
              "      <td>0.008142</td>\n",
              "      <td>-0.002592</td>\n",
              "      <td>-0.031991</td>\n",
              "      <td>-0.046641</td>\n",
              "    </tr>\n",
              "    <tr>\n",
              "      <th>...</th>\n",
              "      <td>...</td>\n",
              "      <td>...</td>\n",
              "      <td>...</td>\n",
              "      <td>...</td>\n",
              "      <td>...</td>\n",
              "      <td>...</td>\n",
              "      <td>...</td>\n",
              "      <td>...</td>\n",
              "      <td>...</td>\n",
              "      <td>...</td>\n",
              "    </tr>\n",
              "    <tr>\n",
              "      <th>437</th>\n",
              "      <td>0.041708</td>\n",
              "      <td>0.050680</td>\n",
              "      <td>0.019662</td>\n",
              "      <td>0.059744</td>\n",
              "      <td>-0.005697</td>\n",
              "      <td>-0.002566</td>\n",
              "      <td>-0.028674</td>\n",
              "      <td>-0.002592</td>\n",
              "      <td>0.031193</td>\n",
              "      <td>0.007207</td>\n",
              "    </tr>\n",
              "    <tr>\n",
              "      <th>438</th>\n",
              "      <td>-0.005515</td>\n",
              "      <td>0.050680</td>\n",
              "      <td>-0.015906</td>\n",
              "      <td>-0.067642</td>\n",
              "      <td>0.049341</td>\n",
              "      <td>0.079165</td>\n",
              "      <td>-0.028674</td>\n",
              "      <td>0.034309</td>\n",
              "      <td>-0.018118</td>\n",
              "      <td>0.044485</td>\n",
              "    </tr>\n",
              "    <tr>\n",
              "      <th>439</th>\n",
              "      <td>0.041708</td>\n",
              "      <td>0.050680</td>\n",
              "      <td>-0.015906</td>\n",
              "      <td>0.017282</td>\n",
              "      <td>-0.037344</td>\n",
              "      <td>-0.013840</td>\n",
              "      <td>-0.024993</td>\n",
              "      <td>-0.011080</td>\n",
              "      <td>-0.046879</td>\n",
              "      <td>0.015491</td>\n",
              "    </tr>\n",
              "    <tr>\n",
              "      <th>440</th>\n",
              "      <td>-0.045472</td>\n",
              "      <td>-0.044642</td>\n",
              "      <td>0.039062</td>\n",
              "      <td>0.001215</td>\n",
              "      <td>0.016318</td>\n",
              "      <td>0.015283</td>\n",
              "      <td>-0.028674</td>\n",
              "      <td>0.026560</td>\n",
              "      <td>0.044528</td>\n",
              "      <td>-0.025930</td>\n",
              "    </tr>\n",
              "    <tr>\n",
              "      <th>441</th>\n",
              "      <td>-0.045472</td>\n",
              "      <td>-0.044642</td>\n",
              "      <td>-0.073030</td>\n",
              "      <td>-0.081414</td>\n",
              "      <td>0.083740</td>\n",
              "      <td>0.027809</td>\n",
              "      <td>0.173816</td>\n",
              "      <td>-0.039493</td>\n",
              "      <td>-0.004220</td>\n",
              "      <td>0.003064</td>\n",
              "    </tr>\n",
              "  </tbody>\n",
              "</table>\n",
              "<p>442 rows × 10 columns</p>\n",
              "</div>\n",
              "      <button class=\"colab-df-convert\" onclick=\"convertToInteractive('df-a717b267-27bc-4853-93d0-e639dc5e6c20')\"\n",
              "              title=\"Convert this dataframe to an interactive table.\"\n",
              "              style=\"display:none;\">\n",
              "        \n",
              "  <svg xmlns=\"http://www.w3.org/2000/svg\" height=\"24px\"viewBox=\"0 0 24 24\"\n",
              "       width=\"24px\">\n",
              "    <path d=\"M0 0h24v24H0V0z\" fill=\"none\"/>\n",
              "    <path d=\"M18.56 5.44l.94 2.06.94-2.06 2.06-.94-2.06-.94-.94-2.06-.94 2.06-2.06.94zm-11 1L8.5 8.5l.94-2.06 2.06-.94-2.06-.94L8.5 2.5l-.94 2.06-2.06.94zm10 10l.94 2.06.94-2.06 2.06-.94-2.06-.94-.94-2.06-.94 2.06-2.06.94z\"/><path d=\"M17.41 7.96l-1.37-1.37c-.4-.4-.92-.59-1.43-.59-.52 0-1.04.2-1.43.59L10.3 9.45l-7.72 7.72c-.78.78-.78 2.05 0 2.83L4 21.41c.39.39.9.59 1.41.59.51 0 1.02-.2 1.41-.59l7.78-7.78 2.81-2.81c.8-.78.8-2.07 0-2.86zM5.41 20L4 18.59l7.72-7.72 1.47 1.35L5.41 20z\"/>\n",
              "  </svg>\n",
              "      </button>\n",
              "      \n",
              "  <style>\n",
              "    .colab-df-container {\n",
              "      display:flex;\n",
              "      flex-wrap:wrap;\n",
              "      gap: 12px;\n",
              "    }\n",
              "\n",
              "    .colab-df-convert {\n",
              "      background-color: #E8F0FE;\n",
              "      border: none;\n",
              "      border-radius: 50%;\n",
              "      cursor: pointer;\n",
              "      display: none;\n",
              "      fill: #1967D2;\n",
              "      height: 32px;\n",
              "      padding: 0 0 0 0;\n",
              "      width: 32px;\n",
              "    }\n",
              "\n",
              "    .colab-df-convert:hover {\n",
              "      background-color: #E2EBFA;\n",
              "      box-shadow: 0px 1px 2px rgba(60, 64, 67, 0.3), 0px 1px 3px 1px rgba(60, 64, 67, 0.15);\n",
              "      fill: #174EA6;\n",
              "    }\n",
              "\n",
              "    [theme=dark] .colab-df-convert {\n",
              "      background-color: #3B4455;\n",
              "      fill: #D2E3FC;\n",
              "    }\n",
              "\n",
              "    [theme=dark] .colab-df-convert:hover {\n",
              "      background-color: #434B5C;\n",
              "      box-shadow: 0px 1px 3px 1px rgba(0, 0, 0, 0.15);\n",
              "      filter: drop-shadow(0px 1px 2px rgba(0, 0, 0, 0.3));\n",
              "      fill: #FFFFFF;\n",
              "    }\n",
              "  </style>\n",
              "\n",
              "      <script>\n",
              "        const buttonEl =\n",
              "          document.querySelector('#df-a717b267-27bc-4853-93d0-e639dc5e6c20 button.colab-df-convert');\n",
              "        buttonEl.style.display =\n",
              "          google.colab.kernel.accessAllowed ? 'block' : 'none';\n",
              "\n",
              "        async function convertToInteractive(key) {\n",
              "          const element = document.querySelector('#df-a717b267-27bc-4853-93d0-e639dc5e6c20');\n",
              "          const dataTable =\n",
              "            await google.colab.kernel.invokeFunction('convertToInteractive',\n",
              "                                                     [key], {});\n",
              "          if (!dataTable) return;\n",
              "\n",
              "          const docLinkHtml = 'Like what you see? Visit the ' +\n",
              "            '<a target=\"_blank\" href=https://colab.research.google.com/notebooks/data_table.ipynb>data table notebook</a>'\n",
              "            + ' to learn more about interactive tables.';\n",
              "          element.innerHTML = '';\n",
              "          dataTable['output_type'] = 'display_data';\n",
              "          await google.colab.output.renderOutput(dataTable, element);\n",
              "          const docLink = document.createElement('div');\n",
              "          docLink.innerHTML = docLinkHtml;\n",
              "          element.appendChild(docLink);\n",
              "        }\n",
              "      </script>\n",
              "    </div>\n",
              "  </div>\n",
              "  "
            ]
          },
          "metadata": {},
          "execution_count": 54
        }
      ]
    },
    {
      "cell_type": "markdown",
      "source": [
        "How many variables are in X?"
      ],
      "metadata": {
        "id": "gJM0RWChiDJh"
      }
    },
    {
      "cell_type": "markdown",
      "source": [
        "## Question 2"
      ],
      "metadata": {
        "id": "gnYj7rp4YC85"
      }
    },
    {
      "cell_type": "code",
      "source": [
        "# Import the SGD Linear Regression algorithm \n",
        "# SGD stands for Stochastic Gradient Descent: the gradient of the loss is \n",
        "# estimated each sample at a time and the model is updated along the way \n",
        "# with a decreasing strength schedule (aka learning rate).\n",
        "from sklearn.linear_model import SGDRegressor\n",
        "\n",
        "# Set it as the mod variable\n",
        "mod = SGDRegressor\n",
        "\n",
        "# Take a look at the parameters\n"
      ],
      "metadata": {
        "id": "A-3u3_nsYEfr"
      },
      "execution_count": 55,
      "outputs": []
    },
    {
      "cell_type": "code",
      "source": [
        "from sklearn.pipeline import Pipeline\n",
        "pipe = Pipeline([('model', SGDRegressor()) \n",
        "                 ])\n",
        "pipe.get_params()"
      ],
      "metadata": {
        "colab": {
          "base_uri": "https://localhost:8080/"
        },
        "id": "LCa1qhdTCgBx",
        "outputId": "20da3f1a-a0cc-4be2-981d-90e392fce791"
      },
      "execution_count": 56,
      "outputs": [
        {
          "output_type": "execute_result",
          "data": {
            "text/plain": [
              "{'memory': None,\n",
              " 'steps': [('model', SGDRegressor())],\n",
              " 'verbose': False,\n",
              " 'model': SGDRegressor(),\n",
              " 'model__alpha': 0.0001,\n",
              " 'model__average': False,\n",
              " 'model__early_stopping': False,\n",
              " 'model__epsilon': 0.1,\n",
              " 'model__eta0': 0.01,\n",
              " 'model__fit_intercept': True,\n",
              " 'model__l1_ratio': 0.15,\n",
              " 'model__learning_rate': 'invscaling',\n",
              " 'model__loss': 'squared_error',\n",
              " 'model__max_iter': 1000,\n",
              " 'model__n_iter_no_change': 5,\n",
              " 'model__penalty': 'l2',\n",
              " 'model__power_t': 0.25,\n",
              " 'model__random_state': None,\n",
              " 'model__shuffle': True,\n",
              " 'model__tol': 0.001,\n",
              " 'model__validation_fraction': 0.1,\n",
              " 'model__verbose': 0,\n",
              " 'model__warm_start': False}"
            ]
          },
          "metadata": {},
          "execution_count": 56
        }
      ]
    },
    {
      "cell_type": "markdown",
      "source": [
        "What are the parameters of the Linear Regression model?"
      ],
      "metadata": {
        "id": "fvzKrAsDjrw0"
      }
    },
    {
      "cell_type": "markdown",
      "source": [
        "## Question 3."
      ],
      "metadata": {
        "id": "zSB12OsWYE6i"
      }
    },
    {
      "cell_type": "code",
      "source": [
        "# Import the Standard Scaler and take a look at the parameters\n",
        "from sklearn.preprocessing import StandardScaler\n",
        "scal_pipe=Pipeline([('scalar', StandardScaler()) \n",
        "                 ])\n",
        "scal_pipe.get_params()"
      ],
      "metadata": {
        "id": "Abs9a_v8YFYx",
        "colab": {
          "base_uri": "https://localhost:8080/"
        },
        "outputId": "9f52e514-099e-479a-f3a9-232d3e5c2c1b"
      },
      "execution_count": 57,
      "outputs": [
        {
          "output_type": "execute_result",
          "data": {
            "text/plain": [
              "{'memory': None,\n",
              " 'steps': [('scalar', StandardScaler())],\n",
              " 'verbose': False,\n",
              " 'scalar': StandardScaler(),\n",
              " 'scalar__copy': True,\n",
              " 'scalar__with_mean': True,\n",
              " 'scalar__with_std': True}"
            ]
          },
          "metadata": {},
          "execution_count": 57
        }
      ]
    },
    {
      "cell_type": "markdown",
      "source": [
        "What are the default option at which with_mean and with_std are set?"
      ],
      "metadata": {
        "id": "fk3CtAdKkNr2"
      }
    },
    {
      "cell_type": "markdown",
      "source": [
        "## Question 4."
      ],
      "metadata": {
        "id": "GiVldJW2YFp8"
      }
    },
    {
      "cell_type": "code",
      "source": [
        "# Create a pipeline using the two previous steps, for the model\n",
        "# set the SGDRegressor parameter random_state = 123 to reproduce results.\n",
        "mod_pipe = Pipeline([('scaler', StandardScaler()),     \n",
        "                 ('model', SGDRegressor()),\n",
        "                 ])\n",
        "\n",
        "from sklearn.model_selection import KFold\n",
        "cv=KFold(n_splits=3, random_state=123, shuffle=True)\n",
        "\n",
        "\n",
        "#Fit and predict the pipe, print results\n",
        "\n",
        "mod_pipe.fit(X,y)\n",
        "pred = mod_pipe.predict(X)\n",
        "print(pred)"
      ],
      "metadata": {
        "id": "lzkAXHECYF-B",
        "colab": {
          "base_uri": "https://localhost:8080/"
        },
        "outputId": "e97e3bba-ce65-4cd8-ce50-2c86e6a44b98"
      },
      "execution_count": 58,
      "outputs": [
        {
          "output_type": "stream",
          "name": "stdout",
          "text": [
            "[204.29502984  67.36984099 174.61699495 163.19241089 127.01739931\n",
            " 101.48041377  76.82491942 124.73627526 160.20523428 213.59947437\n",
            "  96.95364973 104.82334947 112.77659719 162.01959588  99.73959929\n",
            " 175.97036518 209.14353071 184.08754062 144.87187429 119.86955955\n",
            " 115.9793924   89.65644011 116.58106394 279.63932028 162.08983249\n",
            " 144.43451089  92.36482851 176.64180102 125.24755037 183.14311971\n",
            " 158.06758581  65.67367865 257.85536337 103.53357506  77.59889835\n",
            "  82.30192622 206.26697315 152.39980493 246.70757825 135.48201305\n",
            " 155.58916556  69.72482337 142.50831687  77.20027339 218.95867289\n",
            " 123.44523512 136.96692162 102.97958454  77.02840893 186.44614265\n",
            " 156.26340573 167.1956982  132.90694167 157.96104235 140.34315791\n",
            "  71.87414959 204.05307892  75.3201409   92.48387069 135.25471519\n",
            " 111.49638653 175.50626044  65.85939306  99.19231193 111.32168514\n",
            " 186.80129846 145.54366365 123.83303993 111.76159281 121.74887742\n",
            "  74.6067148  237.20382605 149.90000535 123.45285425 151.37972357\n",
            " 125.91045898 189.8644522   79.78034602 160.62033464  93.48960781\n",
            " 173.37931247 120.80170764  64.39050357 148.11241592  53.91191403\n",
            " 168.10528561  50.31940307 149.84886196  78.5820259  102.57285034\n",
            "  82.08115188 187.91773468 187.5810471   56.88622569 103.61455815\n",
            " 120.00655582 208.62215572 214.49810382 121.74078947 134.67988839\n",
            " 167.39693611 106.36788037 148.78302596 160.74927594 155.40206015\n",
            " 113.41321881  72.00494133 159.22444425 228.11984712 145.63242272\n",
            "  51.06741454 119.67322397 151.92486692 209.78853491 301.51003232\n",
            " 193.33111312 213.17090246 240.55656497 165.06296093 145.79424158\n",
            " 155.25384202 198.43701174 221.27932232 177.01427789 165.73727801\n",
            " 190.69059052  62.23946588 105.03907104  89.98658384 209.50144933\n",
            " 245.08962012  68.53971465 114.62058592  69.67097006 139.10655238\n",
            " 236.8840181   57.42259541 231.9986674  254.31850495 251.6660588\n",
            " 158.24300059 228.83497408 172.9111483  116.69419803 178.03106431\n",
            " 238.45483971 190.07989045 227.59323268 116.0442377  175.28421316\n",
            " 208.47454342 140.19929522 199.08644092 123.22146162 150.72553165\n",
            " 202.1915516  143.06753234 123.25635659  83.70768398 234.64085118\n",
            "  81.09994917 240.47776513 142.231903   198.94275298 140.43813487\n",
            "  74.64610856  61.05635813 268.21597122 229.55211804 245.23194521\n",
            "  53.95158595  86.78081008 227.22900698  92.1339501  160.12775646\n",
            " 118.58006261 157.96522781 224.97892599 100.40274284 163.95320774\n",
            " 176.8219634   88.79055605 172.55531921 156.88305272 199.25573515\n",
            " 186.56284663 195.63260652  67.57285107 154.0624742  112.38412074\n",
            " 191.67915461 123.49040674  92.5666901  141.51397321 150.48849597\n",
            " 170.64908512  97.63063069 189.52956261 147.26992749 182.50279911\n",
            "  95.94694352  70.82673792 173.99012922 197.20890134 176.96073229\n",
            " 226.15302484 159.57477125 211.99841317 222.97380935 171.03338187\n",
            " 126.3467123  175.13318217 151.3642393   96.8288434   93.24425953\n",
            " 263.49410036 222.17968759 222.01693983 128.97119192 137.47396631\n",
            "  61.53368815 138.54472367 151.4278281  118.87443817  74.55835816\n",
            " 230.40995837  76.87468341 104.90852996 115.00276539  98.35950858\n",
            " 172.91652427 155.99154547 157.99160747 139.73222414 232.73309689\n",
            " 175.02357968 186.87844585  65.55168598 186.09702409 181.56721995\n",
            " 234.15208735 121.44927914  88.29029078 100.40873593 139.94174955\n",
            "  97.53844104 119.0062166   75.24847011 238.50194519 248.41402536\n",
            " 267.33924081 281.64570489 179.7522976  204.2213597  273.92308019\n",
            " 113.68278454 265.37387487  99.72924454 118.07476623 141.96286085\n",
            "  59.50472204 122.56596037 263.57437791  48.09959995 128.42164569\n",
            " 128.63522057  37.98913312 138.07145639 244.75161333  83.30844446\n",
            " 189.07901767 164.02980531 143.21645134 206.29227738 173.35787138\n",
            " 156.37541367 192.50859383 110.25524141 110.49615007 115.65897015\n",
            " 163.33025632  91.50349284 141.26516615  85.42889231 156.7586362\n",
            " 199.23225157  69.56804765 148.80944897  86.00299875 192.79027668\n",
            " 221.78917899 206.30676368  91.13245275 184.05787414  89.11248976\n",
            " 151.46698445  76.61392129 100.38432683 104.83230994 122.32079167\n",
            " 217.0946049  125.798142   205.84568102 234.80058234 125.47581012\n",
            " 130.62613837 128.16754492 148.32606648  85.7551951  140.74538852\n",
            " 204.30172882 172.81370718 122.0516705  214.83944142 172.07460571\n",
            " 108.1917285  200.7773016  173.38392351 160.53691613 187.08335923\n",
            " 190.76302786 293.17105368 302.33160641 238.86612043 211.43575138\n",
            " 222.8060538  154.68614757 223.7842984  185.36778278 101.45484748\n",
            " 179.05224924 111.42742124 292.30504467 181.07586886  80.05043205\n",
            "  85.17127486 254.09706325 172.03627421 121.10256137 146.49473367\n",
            " 171.00860575 185.32120322 166.38270333 160.80117359 141.89050009\n",
            " 125.32390483 184.08535996 100.36921383 126.20076444  95.47137794\n",
            " 254.42639949  85.44527437  52.34491558 180.59909409 200.93142532\n",
            " 132.48259255  92.11592713 200.42236443  55.29951273 173.25855633\n",
            " 193.70102402 122.0238161  234.55097301 160.95373402 158.50641726\n",
            " 160.75589776 258.44505698 258.80934769 203.33227642 182.45071477\n",
            "  57.50265009 212.64131268 107.7519477  140.23205931 120.42387884\n",
            " 179.05569721 214.11102842 167.4620881  162.13476883 132.69579647\n",
            " 175.73559582  70.03252221 257.7157171  112.70099495 112.88355192\n",
            " 137.41718074 107.20991452  99.67975454 161.13111004  73.85435956\n",
            " 267.62987692  56.45552361 101.25847117  98.94763106 280.46181369\n",
            " 164.4016984   67.33777678 178.32187874 170.98903156 190.2972343\n",
            " 183.79483062  84.87372231 145.79890308 252.71471991 199.0996823\n",
            " 280.29056941  47.53007367 176.80111503 204.64434401 173.27007856\n",
            " 160.42650127 151.2799135  232.63210684 121.32137054 168.47036556\n",
            " 169.17581749 228.67028354 151.37091807  99.87521787  81.65490976\n",
            " 141.3029609  192.19603056 201.56888962 150.83594078 169.16652526\n",
            " 104.27012691 163.68510599 129.94569425 263.69581276  99.80696584\n",
            " 113.58307883 118.93103386 220.78913816  58.98447108 133.83324164\n",
            " 119.10920109  50.39225774 192.94812515 103.90082847 123.85909533\n",
            " 210.03906081  45.07611724]\n"
          ]
        }
      ]
    },
    {
      "cell_type": "markdown",
      "source": [
        "What are the first 4 predicted values? "
      ],
      "metadata": {
        "id": "m8_OvAAalaWM"
      }
    },
    {
      "cell_type": "markdown",
      "source": [
        "Question 5."
      ],
      "metadata": {
        "id": "u7GHpq7FYGQB"
      }
    },
    {
      "cell_type": "code",
      "source": [
        "# Now create a GridSearchCV Object using the previous pipe object,\n",
        "# where the parameter 'model__alpa' is set to try 0.0001, 0.005, 0.001.\n",
        "# Set cross validation to 3 times.\n",
        "from sklearn.model_selection import GridSearchCV\n",
        "mod2 = GridSearchCV(estimator=mod_pipe,\n",
        "                 param_grid={\n",
        "                   'model__alpha': [0.0001, 0.005 , 0.001],       \n",
        "                 },\n",
        "                 cv=cv)\n"
      ],
      "metadata": {
        "id": "DFbW7-gPYGjl"
      },
      "execution_count": 59,
      "outputs": []
    },
    {
      "cell_type": "markdown",
      "source": [
        "How are you supposed to write the values of the parameter 'alpha'?"
      ],
      "metadata": {
        "id": "qCUnrjFJnY-X"
      }
    },
    {
      "cell_type": "markdown",
      "source": [
        "Question 6."
      ],
      "metadata": {
        "id": "2EN6DfL2YHCC"
      }
    },
    {
      "cell_type": "code",
      "source": [
        "# Now fit the GridSearch model from above and see the results \n",
        "# (Hint: to make sure we all get the same results, you had to use the pipe that\n",
        "# was set in question 4 making sure we used the same random_state = 123)\n",
        "mod2.fit(X,y)\n",
        "\n"
      ],
      "metadata": {
        "id": "46sNANbrYHdb",
        "colab": {
          "base_uri": "https://localhost:8080/"
        },
        "outputId": "d407c0a3-caff-47e2-9788-72137950132b"
      },
      "execution_count": 60,
      "outputs": [
        {
          "output_type": "execute_result",
          "data": {
            "text/plain": [
              "GridSearchCV(cv=KFold(n_splits=3, random_state=123, shuffle=True),\n",
              "             estimator=Pipeline(steps=[('scaler', StandardScaler()),\n",
              "                                       ('model', SGDRegressor())]),\n",
              "             param_grid={'model__alpha': [0.0001, 0.005, 0.001]})"
            ]
          },
          "metadata": {},
          "execution_count": 60
        }
      ]
    },
    {
      "cell_type": "code",
      "source": [
        "import pandas as pd\n",
        "pd.DataFrame(mod2.cv_results_)\n"
      ],
      "metadata": {
        "colab": {
          "base_uri": "https://localhost:8080/",
          "height": 259
        },
        "id": "ZJX0drUjflf6",
        "outputId": "76ce264c-da33-48d9-9b74-57304b5d7b02"
      },
      "execution_count": 61,
      "outputs": [
        {
          "output_type": "execute_result",
          "data": {
            "text/plain": [
              "   mean_fit_time  std_fit_time  mean_score_time  std_score_time  \\\n",
              "0       0.008720      0.003472         0.002825        0.000948   \n",
              "1       0.005725      0.000370         0.002658        0.000583   \n",
              "2       0.006085      0.000197         0.002486        0.000102   \n",
              "\n",
              "  param_model__alpha                    params  split0_test_score  \\\n",
              "0             0.0001  {'model__alpha': 0.0001}           0.519621   \n",
              "1              0.005   {'model__alpha': 0.005}           0.518861   \n",
              "2              0.001   {'model__alpha': 0.001}           0.518143   \n",
              "\n",
              "   split1_test_score  split2_test_score  mean_test_score  std_test_score  \\\n",
              "0           0.476184           0.482944         0.492917        0.019084   \n",
              "1           0.477408           0.484305         0.493525        0.018135   \n",
              "2           0.477854           0.483434         0.493144        0.017823   \n",
              "\n",
              "   rank_test_score  \n",
              "0                3  \n",
              "1                1  \n",
              "2                2  "
            ],
            "text/html": [
              "\n",
              "  <div id=\"df-b3444d56-042b-496d-89c4-8882f40b2ef1\">\n",
              "    <div class=\"colab-df-container\">\n",
              "      <div>\n",
              "<style scoped>\n",
              "    .dataframe tbody tr th:only-of-type {\n",
              "        vertical-align: middle;\n",
              "    }\n",
              "\n",
              "    .dataframe tbody tr th {\n",
              "        vertical-align: top;\n",
              "    }\n",
              "\n",
              "    .dataframe thead th {\n",
              "        text-align: right;\n",
              "    }\n",
              "</style>\n",
              "<table border=\"1\" class=\"dataframe\">\n",
              "  <thead>\n",
              "    <tr style=\"text-align: right;\">\n",
              "      <th></th>\n",
              "      <th>mean_fit_time</th>\n",
              "      <th>std_fit_time</th>\n",
              "      <th>mean_score_time</th>\n",
              "      <th>std_score_time</th>\n",
              "      <th>param_model__alpha</th>\n",
              "      <th>params</th>\n",
              "      <th>split0_test_score</th>\n",
              "      <th>split1_test_score</th>\n",
              "      <th>split2_test_score</th>\n",
              "      <th>mean_test_score</th>\n",
              "      <th>std_test_score</th>\n",
              "      <th>rank_test_score</th>\n",
              "    </tr>\n",
              "  </thead>\n",
              "  <tbody>\n",
              "    <tr>\n",
              "      <th>0</th>\n",
              "      <td>0.008720</td>\n",
              "      <td>0.003472</td>\n",
              "      <td>0.002825</td>\n",
              "      <td>0.000948</td>\n",
              "      <td>0.0001</td>\n",
              "      <td>{'model__alpha': 0.0001}</td>\n",
              "      <td>0.519621</td>\n",
              "      <td>0.476184</td>\n",
              "      <td>0.482944</td>\n",
              "      <td>0.492917</td>\n",
              "      <td>0.019084</td>\n",
              "      <td>3</td>\n",
              "    </tr>\n",
              "    <tr>\n",
              "      <th>1</th>\n",
              "      <td>0.005725</td>\n",
              "      <td>0.000370</td>\n",
              "      <td>0.002658</td>\n",
              "      <td>0.000583</td>\n",
              "      <td>0.005</td>\n",
              "      <td>{'model__alpha': 0.005}</td>\n",
              "      <td>0.518861</td>\n",
              "      <td>0.477408</td>\n",
              "      <td>0.484305</td>\n",
              "      <td>0.493525</td>\n",
              "      <td>0.018135</td>\n",
              "      <td>1</td>\n",
              "    </tr>\n",
              "    <tr>\n",
              "      <th>2</th>\n",
              "      <td>0.006085</td>\n",
              "      <td>0.000197</td>\n",
              "      <td>0.002486</td>\n",
              "      <td>0.000102</td>\n",
              "      <td>0.001</td>\n",
              "      <td>{'model__alpha': 0.001}</td>\n",
              "      <td>0.518143</td>\n",
              "      <td>0.477854</td>\n",
              "      <td>0.483434</td>\n",
              "      <td>0.493144</td>\n",
              "      <td>0.017823</td>\n",
              "      <td>2</td>\n",
              "    </tr>\n",
              "  </tbody>\n",
              "</table>\n",
              "</div>\n",
              "      <button class=\"colab-df-convert\" onclick=\"convertToInteractive('df-b3444d56-042b-496d-89c4-8882f40b2ef1')\"\n",
              "              title=\"Convert this dataframe to an interactive table.\"\n",
              "              style=\"display:none;\">\n",
              "        \n",
              "  <svg xmlns=\"http://www.w3.org/2000/svg\" height=\"24px\"viewBox=\"0 0 24 24\"\n",
              "       width=\"24px\">\n",
              "    <path d=\"M0 0h24v24H0V0z\" fill=\"none\"/>\n",
              "    <path d=\"M18.56 5.44l.94 2.06.94-2.06 2.06-.94-2.06-.94-.94-2.06-.94 2.06-2.06.94zm-11 1L8.5 8.5l.94-2.06 2.06-.94-2.06-.94L8.5 2.5l-.94 2.06-2.06.94zm10 10l.94 2.06.94-2.06 2.06-.94-2.06-.94-.94-2.06-.94 2.06-2.06.94z\"/><path d=\"M17.41 7.96l-1.37-1.37c-.4-.4-.92-.59-1.43-.59-.52 0-1.04.2-1.43.59L10.3 9.45l-7.72 7.72c-.78.78-.78 2.05 0 2.83L4 21.41c.39.39.9.59 1.41.59.51 0 1.02-.2 1.41-.59l7.78-7.78 2.81-2.81c.8-.78.8-2.07 0-2.86zM5.41 20L4 18.59l7.72-7.72 1.47 1.35L5.41 20z\"/>\n",
              "  </svg>\n",
              "      </button>\n",
              "      \n",
              "  <style>\n",
              "    .colab-df-container {\n",
              "      display:flex;\n",
              "      flex-wrap:wrap;\n",
              "      gap: 12px;\n",
              "    }\n",
              "\n",
              "    .colab-df-convert {\n",
              "      background-color: #E8F0FE;\n",
              "      border: none;\n",
              "      border-radius: 50%;\n",
              "      cursor: pointer;\n",
              "      display: none;\n",
              "      fill: #1967D2;\n",
              "      height: 32px;\n",
              "      padding: 0 0 0 0;\n",
              "      width: 32px;\n",
              "    }\n",
              "\n",
              "    .colab-df-convert:hover {\n",
              "      background-color: #E2EBFA;\n",
              "      box-shadow: 0px 1px 2px rgba(60, 64, 67, 0.3), 0px 1px 3px 1px rgba(60, 64, 67, 0.15);\n",
              "      fill: #174EA6;\n",
              "    }\n",
              "\n",
              "    [theme=dark] .colab-df-convert {\n",
              "      background-color: #3B4455;\n",
              "      fill: #D2E3FC;\n",
              "    }\n",
              "\n",
              "    [theme=dark] .colab-df-convert:hover {\n",
              "      background-color: #434B5C;\n",
              "      box-shadow: 0px 1px 3px 1px rgba(0, 0, 0, 0.15);\n",
              "      filter: drop-shadow(0px 1px 2px rgba(0, 0, 0, 0.3));\n",
              "      fill: #FFFFFF;\n",
              "    }\n",
              "  </style>\n",
              "\n",
              "      <script>\n",
              "        const buttonEl =\n",
              "          document.querySelector('#df-b3444d56-042b-496d-89c4-8882f40b2ef1 button.colab-df-convert');\n",
              "        buttonEl.style.display =\n",
              "          google.colab.kernel.accessAllowed ? 'block' : 'none';\n",
              "\n",
              "        async function convertToInteractive(key) {\n",
              "          const element = document.querySelector('#df-b3444d56-042b-496d-89c4-8882f40b2ef1');\n",
              "          const dataTable =\n",
              "            await google.colab.kernel.invokeFunction('convertToInteractive',\n",
              "                                                     [key], {});\n",
              "          if (!dataTable) return;\n",
              "\n",
              "          const docLinkHtml = 'Like what you see? Visit the ' +\n",
              "            '<a target=\"_blank\" href=https://colab.research.google.com/notebooks/data_table.ipynb>data table notebook</a>'\n",
              "            + ' to learn more about interactive tables.';\n",
              "          element.innerHTML = '';\n",
              "          dataTable['output_type'] = 'display_data';\n",
              "          await google.colab.output.renderOutput(dataTable, element);\n",
              "          const docLink = document.createElement('div');\n",
              "          docLink.innerHTML = docLinkHtml;\n",
              "          element.appendChild(docLink);\n",
              "        }\n",
              "      </script>\n",
              "    </div>\n",
              "  </div>\n",
              "  "
            ]
          },
          "metadata": {},
          "execution_count": 61
        }
      ]
    },
    {
      "cell_type": "markdown",
      "source": [
        "Which is the best model? Look at the rank_test_value"
      ],
      "metadata": {
        "id": "byN7vPtHon9l"
      }
    },
    {
      "cell_type": "markdown",
      "source": [
        "Question 7.\n",
        "\n",
        "Find out which test score is the one that is reported above in mean_test_score. What is it and how do you interpret this results?"
      ],
      "metadata": {
        "id": "u1uts1sGYHwM"
      }
    },
    {
      "cell_type": "code",
      "source": [
        "#In GridSearchCV, mean_test_score denotes the mean accuracy of every split in cross validation. In case of regression models, it represents R2."
      ],
      "metadata": {
        "id": "vgTB-iHnNOaZ"
      },
      "execution_count": 62,
      "outputs": []
    }
  ]
}